{
 "cells": [
  {
   "cell_type": "markdown",
   "metadata": {},
   "source": [
    "Import numpy and pandas."
   ]
  },
  {
   "cell_type": "code",
   "execution_count": 28,
   "metadata": {},
   "outputs": [],
   "source": [
    "import pandas as pd\n",
    "import numpy as np\n",
    "import matplotlib\n",
    "from matplotlib import pyplot as plt"
   ]
  },
  {
   "cell_type": "markdown",
   "metadata": {},
   "source": [
    "Using the bash magic command, view the list of files inside of the data directory."
   ]
  },
  {
   "cell_type": "code",
   "execution_count": 29,
   "metadata": {},
   "outputs": [
    {
     "name": "stdout",
     "output_type": "stream",
     "text": [
      "ActiveFile-Wilm1thru8-20191015.csv\n",
      "DE-VoterFile-Documentation 20171010.pdf\n"
     ]
    }
   ],
   "source": [
    "%%bash\n",
    "ls data"
   ]
  },
  {
   "cell_type": "markdown",
   "metadata": {},
   "source": [
    "Load the csv file into a Pandas DataFrame."
   ]
  },
  {
   "cell_type": "code",
   "execution_count": 30,
   "metadata": {},
   "outputs": [],
   "source": [
    "# \"/Users/psehgal/dev/DataEngineering.Labs.CityOfNewarkDETreeSurvey/data/newark_tree_data.csv\",engine=\"python\")\n",
    "           \n",
    "           \n",
    "#df = pd.read_csv(\"/Users/psehgal/dev/DataEngineering.Labs.RegisteredVotersFileWilmingtonDE/data/ActiveFile-Wilm1thru8-20191015.csv\",engine=\"python\")\n",
    "df = pd.read_csv(\"./data/ActiveFile-Wilm1thru8-20191015.csv\",engine=\"python\")\n"
   ]
  },
  {
   "cell_type": "markdown",
   "metadata": {},
   "source": [
    "Display a list of columns in the DataFrame."
   ]
  },
  {
   "cell_type": "code",
   "execution_count": 31,
   "metadata": {},
   "outputs": [
    {
     "data": {
      "text/plain": [
       "Index(['UNIQUE-ID', 'LAST-NAME', 'FIRST-NAME', 'MID-INIT', 'SUFFIX',\n",
       "       'YEAR-OF-BIRTH', 'HOME-NO', 'HOME-APT', 'HOME-STREET', 'HOME-DEV',\n",
       "       'HOME-CITY', 'HOME-ZIPCODE', 'COUNTY', 'ED', 'RD', 'SD', 'CNLEVY',\n",
       "       'WILM', 'CODE-HOME-CITY', 'SCH-DIST', 'PARTY', 'DATE-REG', 'PP-HIST-1',\n",
       "       'PP-HIST-2', 'PR-HIST-1', 'PR-HIST-2', 'PR-HIST-3', 'GEN-HIST-1',\n",
       "       'GEN-HIST-2', 'GEN-HIST-3', 'GEN-HIST-4', 'GEN-HIST-5', 'SP-HIST-1',\n",
       "       'SP-HIST-2', 'SP-HIST-3', 'SCHL-HIST-1', 'SCHL-HIST-2', 'SCHL-HIST-3',\n",
       "       'SCHL-HIST-4', 'SCHL-HIST-5', 'REF-HIST-1', 'REF-HIST-2', 'REF-HIST-3',\n",
       "       'REF-HIST-4', 'REF-HIST-5', 'MAIL-NO', 'MAIL-APT', 'MAIL-STR',\n",
       "       'MAIL-CITY', 'MAIL-STATE', 'MAIL-ZIP', 'DATE-LAST-CHG', 'CODE-CHANGE',\n",
       "       'STATUS'],\n",
       "      dtype='object')"
      ]
     },
     "execution_count": 31,
     "metadata": {},
     "output_type": "execute_result"
    }
   ],
   "source": [
    "# \n",
    "df.columns"
   ]
  },
  {
   "cell_type": "markdown",
   "metadata": {},
   "source": [
    "What is the shape of this DataFrame? How many columns does each row have? How many rows are there?"
   ]
  },
  {
   "cell_type": "code",
   "execution_count": 32,
   "metadata": {},
   "outputs": [
    {
     "data": {
      "text/plain": [
       "(51909, 54)"
      ]
     },
     "execution_count": 32,
     "metadata": {},
     "output_type": "execute_result"
    }
   ],
   "source": [
    "# \n",
    "df.shape\n"
   ]
  },
  {
   "cell_type": "markdown",
   "metadata": {},
   "source": [
    "# HOME ZIP CODE"
   ]
  },
  {
   "cell_type": "markdown",
   "metadata": {},
   "source": [
    "Group objects using the HOME-ZIPCODE column. Assign the value to a variable called grouped_zc.  \n",
    "[Pandas Groupby User Guide](https://pandas.pydata.org/pandas-docs/stable/user_guide/groupby.html)"
   ]
  },
  {
   "cell_type": "code",
   "execution_count": 33,
   "metadata": {},
   "outputs": [],
   "source": [
    "grouped_zc = df.groupby('HOME-ZIPCODE')"
   ]
  },
  {
   "cell_type": "markdown",
   "metadata": {},
   "source": [
    "What type of object is grouped_zc?"
   ]
  },
  {
   "cell_type": "code",
   "execution_count": 34,
   "metadata": {},
   "outputs": [
    {
     "data": {
      "text/html": [
       "<div>\n",
       "<style scoped>\n",
       "    .dataframe tbody tr th:only-of-type {\n",
       "        vertical-align: middle;\n",
       "    }\n",
       "\n",
       "    .dataframe tbody tr th {\n",
       "        vertical-align: top;\n",
       "    }\n",
       "\n",
       "    .dataframe thead th {\n",
       "        text-align: right;\n",
       "    }\n",
       "</style>\n",
       "<table border=\"1\" class=\"dataframe\">\n",
       "  <thead>\n",
       "    <tr style=\"text-align: right;\">\n",
       "      <th></th>\n",
       "      <th>UNIQUE-ID</th>\n",
       "      <th>LAST-NAME</th>\n",
       "      <th>FIRST-NAME</th>\n",
       "      <th>MID-INIT</th>\n",
       "      <th>SUFFIX</th>\n",
       "      <th>YEAR-OF-BIRTH</th>\n",
       "      <th>HOME-NO</th>\n",
       "      <th>HOME-APT</th>\n",
       "      <th>HOME-STREET</th>\n",
       "      <th>HOME-DEV</th>\n",
       "      <th>...</th>\n",
       "      <th>REF-HIST-5</th>\n",
       "      <th>MAIL-NO</th>\n",
       "      <th>MAIL-APT</th>\n",
       "      <th>MAIL-STR</th>\n",
       "      <th>MAIL-CITY</th>\n",
       "      <th>MAIL-STATE</th>\n",
       "      <th>MAIL-ZIP</th>\n",
       "      <th>DATE-LAST-CHG</th>\n",
       "      <th>CODE-CHANGE</th>\n",
       "      <th>STATUS</th>\n",
       "    </tr>\n",
       "    <tr>\n",
       "      <th>HOME-ZIPCODE</th>\n",
       "      <th></th>\n",
       "      <th></th>\n",
       "      <th></th>\n",
       "      <th></th>\n",
       "      <th></th>\n",
       "      <th></th>\n",
       "      <th></th>\n",
       "      <th></th>\n",
       "      <th></th>\n",
       "      <th></th>\n",
       "      <th></th>\n",
       "      <th></th>\n",
       "      <th></th>\n",
       "      <th></th>\n",
       "      <th></th>\n",
       "      <th></th>\n",
       "      <th></th>\n",
       "      <th></th>\n",
       "      <th></th>\n",
       "      <th></th>\n",
       "      <th></th>\n",
       "    </tr>\n",
       "  </thead>\n",
       "  <tbody>\n",
       "    <tr>\n",
       "      <td>19801</td>\n",
       "      <td>int64</td>\n",
       "      <td>object</td>\n",
       "      <td>object</td>\n",
       "      <td>object</td>\n",
       "      <td>object</td>\n",
       "      <td>int64</td>\n",
       "      <td>object</td>\n",
       "      <td>object</td>\n",
       "      <td>object</td>\n",
       "      <td>object</td>\n",
       "      <td>...</td>\n",
       "      <td>float64</td>\n",
       "      <td>object</td>\n",
       "      <td>object</td>\n",
       "      <td>object</td>\n",
       "      <td>object</td>\n",
       "      <td>object</td>\n",
       "      <td>float64</td>\n",
       "      <td>int64</td>\n",
       "      <td>object</td>\n",
       "      <td>object</td>\n",
       "    </tr>\n",
       "    <tr>\n",
       "      <td>19802</td>\n",
       "      <td>int64</td>\n",
       "      <td>object</td>\n",
       "      <td>object</td>\n",
       "      <td>object</td>\n",
       "      <td>object</td>\n",
       "      <td>int64</td>\n",
       "      <td>object</td>\n",
       "      <td>object</td>\n",
       "      <td>object</td>\n",
       "      <td>object</td>\n",
       "      <td>...</td>\n",
       "      <td>float64</td>\n",
       "      <td>object</td>\n",
       "      <td>object</td>\n",
       "      <td>object</td>\n",
       "      <td>object</td>\n",
       "      <td>object</td>\n",
       "      <td>float64</td>\n",
       "      <td>int64</td>\n",
       "      <td>object</td>\n",
       "      <td>object</td>\n",
       "    </tr>\n",
       "    <tr>\n",
       "      <td>19805</td>\n",
       "      <td>int64</td>\n",
       "      <td>object</td>\n",
       "      <td>object</td>\n",
       "      <td>object</td>\n",
       "      <td>object</td>\n",
       "      <td>int64</td>\n",
       "      <td>object</td>\n",
       "      <td>object</td>\n",
       "      <td>object</td>\n",
       "      <td>object</td>\n",
       "      <td>...</td>\n",
       "      <td>float64</td>\n",
       "      <td>object</td>\n",
       "      <td>object</td>\n",
       "      <td>object</td>\n",
       "      <td>object</td>\n",
       "      <td>object</td>\n",
       "      <td>float64</td>\n",
       "      <td>int64</td>\n",
       "      <td>object</td>\n",
       "      <td>object</td>\n",
       "    </tr>\n",
       "    <tr>\n",
       "      <td>19806</td>\n",
       "      <td>int64</td>\n",
       "      <td>object</td>\n",
       "      <td>object</td>\n",
       "      <td>object</td>\n",
       "      <td>object</td>\n",
       "      <td>int64</td>\n",
       "      <td>object</td>\n",
       "      <td>object</td>\n",
       "      <td>object</td>\n",
       "      <td>object</td>\n",
       "      <td>...</td>\n",
       "      <td>float64</td>\n",
       "      <td>object</td>\n",
       "      <td>object</td>\n",
       "      <td>object</td>\n",
       "      <td>object</td>\n",
       "      <td>object</td>\n",
       "      <td>float64</td>\n",
       "      <td>int64</td>\n",
       "      <td>object</td>\n",
       "      <td>object</td>\n",
       "    </tr>\n",
       "    <tr>\n",
       "      <td>19807</td>\n",
       "      <td>int64</td>\n",
       "      <td>object</td>\n",
       "      <td>object</td>\n",
       "      <td>object</td>\n",
       "      <td>object</td>\n",
       "      <td>int64</td>\n",
       "      <td>object</td>\n",
       "      <td>object</td>\n",
       "      <td>object</td>\n",
       "      <td>object</td>\n",
       "      <td>...</td>\n",
       "      <td>float64</td>\n",
       "      <td>object</td>\n",
       "      <td>object</td>\n",
       "      <td>object</td>\n",
       "      <td>object</td>\n",
       "      <td>object</td>\n",
       "      <td>float64</td>\n",
       "      <td>int64</td>\n",
       "      <td>object</td>\n",
       "      <td>object</td>\n",
       "    </tr>\n",
       "  </tbody>\n",
       "</table>\n",
       "<p>5 rows × 53 columns</p>\n",
       "</div>"
      ],
      "text/plain": [
       "             UNIQUE-ID LAST-NAME FIRST-NAME MID-INIT  SUFFIX YEAR-OF-BIRTH  \\\n",
       "HOME-ZIPCODE                                                                 \n",
       "19801            int64    object     object   object  object         int64   \n",
       "19802            int64    object     object   object  object         int64   \n",
       "19805            int64    object     object   object  object         int64   \n",
       "19806            int64    object     object   object  object         int64   \n",
       "19807            int64    object     object   object  object         int64   \n",
       "\n",
       "             HOME-NO HOME-APT HOME-STREET HOME-DEV  ... REF-HIST-5 MAIL-NO  \\\n",
       "HOME-ZIPCODE                                        ...                      \n",
       "19801         object   object      object   object  ...    float64  object   \n",
       "19802         object   object      object   object  ...    float64  object   \n",
       "19805         object   object      object   object  ...    float64  object   \n",
       "19806         object   object      object   object  ...    float64  object   \n",
       "19807         object   object      object   object  ...    float64  object   \n",
       "\n",
       "             MAIL-APT MAIL-STR MAIL-CITY MAIL-STATE MAIL-ZIP DATE-LAST-CHG  \\\n",
       "HOME-ZIPCODE                                                                 \n",
       "19801          object   object    object     object  float64         int64   \n",
       "19802          object   object    object     object  float64         int64   \n",
       "19805          object   object    object     object  float64         int64   \n",
       "19806          object   object    object     object  float64         int64   \n",
       "19807          object   object    object     object  float64         int64   \n",
       "\n",
       "             CODE-CHANGE  STATUS  \n",
       "HOME-ZIPCODE                      \n",
       "19801             object  object  \n",
       "19802             object  object  \n",
       "19805             object  object  \n",
       "19806             object  object  \n",
       "19807             object  object  \n",
       "\n",
       "[5 rows x 53 columns]"
      ]
     },
     "execution_count": 34,
     "metadata": {},
     "output_type": "execute_result"
    }
   ],
   "source": [
    "grouped_zc.dtypes"
   ]
  },
  {
   "cell_type": "markdown",
   "metadata": {},
   "source": [
    "DataFrameGroupBy objects contain a groups attribute. Display the value of the groups attribute belonging to the grouped_zc object."
   ]
  },
  {
   "cell_type": "code",
   "execution_count": 35,
   "metadata": {},
   "outputs": [
    {
     "data": {
      "text/plain": [
       "<pandas.core.groupby.generic.DataFrameGroupBy object at 0x11bdda650>"
      ]
     },
     "execution_count": 35,
     "metadata": {},
     "output_type": "execute_result"
    }
   ],
   "source": [
    "\n",
    "grouped_zc"
   ]
  },
  {
   "cell_type": "markdown",
   "metadata": {},
   "source": [
    "Invoke the size method on the grouped_zc object to find out how many items are associated with each zip code."
   ]
  },
  {
   "cell_type": "code",
   "execution_count": 36,
   "metadata": {},
   "outputs": [
    {
     "data": {
      "text/plain": [
       "HOME-ZIPCODE\n",
       "19801    10730\n",
       "19802    17182\n",
       "19805    15548\n",
       "19806     8326\n",
       "19807      123\n",
       "dtype: int64"
      ]
     },
     "execution_count": 36,
     "metadata": {},
     "output_type": "execute_result"
    }
   ],
   "source": [
    "grouped_zc.size()"
   ]
  },
  {
   "cell_type": "markdown",
   "metadata": {},
   "source": [
    "Use a magic command so that matplotlib graphics will display inline."
   ]
  },
  {
   "cell_type": "code",
   "execution_count": 37,
   "metadata": {},
   "outputs": [],
   "source": [
    "%matplotlib inline"
   ]
  },
  {
   "cell_type": "markdown",
   "metadata": {},
   "source": [
    "Create a pie chart illustrating the number of voters per zip code."
   ]
  },
  {
   "cell_type": "code",
   "execution_count": 43,
   "metadata": {},
   "outputs": [
    {
     "data": {
      "text/plain": [
       "([<matplotlib.patches.Wedge at 0x11be40cd0>,\n",
       "  <matplotlib.patches.Wedge at 0x11be40b10>,\n",
       "  <matplotlib.patches.Wedge at 0x11be429d0>,\n",
       "  <matplotlib.patches.Wedge at 0x11be43910>,\n",
       "  <matplotlib.patches.Wedge at 0x11be43490>],\n",
       " [Text(0.8760967626973386, 0.6651725057391077, '19801'),\n",
       "  Text(-0.764058752148303, 0.7913369846440758, '19806'),\n",
       "  Text(-0.42112865275664896, -1.0161942028113375, '19802'),\n",
       "  Text(0.9552631610472119, -0.5454102063090577, '19805'),\n",
       "  Text(1.099969521734947, -0.008188483021424421, '19807')])"
      ]
     },
     "execution_count": 43,
     "metadata": {},
     "output_type": "execute_result"
    },
    {
     "data": {
      "image/png": "[encoded data removed]",
      "text/plain": [
       "<Figure size 432x288 with 1 Axes>"
      ]
     },
     "metadata": {},
     "output_type": "display_data"
    }
   ],
   "source": [
    "#from matplotlib import pyplot as plt\n",
    "\n",
    "#labels = '19801', '19802', '19805', '19806', '19807'\n",
    "labels = df['HOME-ZIPCODE'].unique()\n",
    "plt.pie(grouped_zc.size(), labels = labels)\n",
    "#matplotlib.pyplot.pie(grouped_zc.size(), labels = labels)"
   ]
  },
  {
   "cell_type": "markdown",
   "metadata": {},
   "source": [
    "# YEAR OF BIRTH"
   ]
  },
  {
   "cell_type": "markdown",
   "metadata": {},
   "source": [
    "Group objects by the YEAR-OF-BIRTH column. Assign the value to an object called \"grouped_yob\"."
   ]
  },
  {
   "cell_type": "code",
   "execution_count": 12,
   "metadata": {},
   "outputs": [],
   "source": [
    "grouped_yob = df.groupby('YEAR-OF-BIRTH')"
   ]
  },
  {
   "cell_type": "markdown",
   "metadata": {},
   "source": [
    "Display the value of the groups attribute belonging the grouped_yob object."
   ]
  },
  {
   "cell_type": "code",
   "execution_count": 13,
   "metadata": {},
   "outputs": [
    {
     "data": {
      "text/plain": [
       "<pandas.core.groupby.generic.DataFrameGroupBy object at 0x11bd8ee50>"
      ]
     },
     "execution_count": 13,
     "metadata": {},
     "output_type": "execute_result"
    }
   ],
   "source": [
    "grouped_yob"
   ]
  },
  {
   "cell_type": "markdown",
   "metadata": {},
   "source": [
    "Select the object for the row indicating that the voter was born in 1900."
   ]
  },
  {
   "cell_type": "code",
   "execution_count": 14,
   "metadata": {},
   "outputs": [
    {
     "data": {
      "text/html": [
       "<div>\n",
       "<style scoped>\n",
       "    .dataframe tbody tr th:only-of-type {\n",
       "        vertical-align: middle;\n",
       "    }\n",
       "\n",
       "    .dataframe tbody tr th {\n",
       "        vertical-align: top;\n",
       "    }\n",
       "\n",
       "    .dataframe thead th {\n",
       "        text-align: right;\n",
       "    }\n",
       "</style>\n",
       "<table border=\"1\" class=\"dataframe\">\n",
       "  <thead>\n",
       "    <tr style=\"text-align: right;\">\n",
       "      <th></th>\n",
       "      <th>UNIQUE-ID</th>\n",
       "      <th>LAST-NAME</th>\n",
       "      <th>FIRST-NAME</th>\n",
       "      <th>MID-INIT</th>\n",
       "      <th>SUFFIX</th>\n",
       "      <th>YEAR-OF-BIRTH</th>\n",
       "      <th>HOME-NO</th>\n",
       "      <th>HOME-APT</th>\n",
       "      <th>HOME-STREET</th>\n",
       "      <th>HOME-DEV</th>\n",
       "      <th>...</th>\n",
       "      <th>REF-HIST-5</th>\n",
       "      <th>MAIL-NO</th>\n",
       "      <th>MAIL-APT</th>\n",
       "      <th>MAIL-STR</th>\n",
       "      <th>MAIL-CITY</th>\n",
       "      <th>MAIL-STATE</th>\n",
       "      <th>MAIL-ZIP</th>\n",
       "      <th>DATE-LAST-CHG</th>\n",
       "      <th>CODE-CHANGE</th>\n",
       "      <th>STATUS</th>\n",
       "    </tr>\n",
       "  </thead>\n",
       "  <tbody>\n",
       "    <tr>\n",
       "      <td>49249</td>\n",
       "      <td>101092654</td>\n",
       "      <td>KENNEDY</td>\n",
       "      <td>JORDAN</td>\n",
       "      <td>D</td>\n",
       "      <td>NaN</td>\n",
       "      <td>1900</td>\n",
       "      <td>724</td>\n",
       "      <td>NaN</td>\n",
       "      <td>N BANCROFT PKY</td>\n",
       "      <td>NaN</td>\n",
       "      <td>...</td>\n",
       "      <td>NaN</td>\n",
       "      <td>NaN</td>\n",
       "      <td>NaN</td>\n",
       "      <td>NaN</td>\n",
       "      <td>NaN</td>\n",
       "      <td>NaN</td>\n",
       "      <td>NaN</td>\n",
       "      <td>20170731</td>\n",
       "      <td>P6</td>\n",
       "      <td>I</td>\n",
       "    </tr>\n",
       "  </tbody>\n",
       "</table>\n",
       "<p>1 rows × 54 columns</p>\n",
       "</div>"
      ],
      "text/plain": [
       "       UNIQUE-ID LAST-NAME FIRST-NAME MID-INIT SUFFIX  YEAR-OF-BIRTH HOME-NO  \\\n",
       "49249  101092654   KENNEDY     JORDAN        D    NaN           1900     724   \n",
       "\n",
       "      HOME-APT     HOME-STREET HOME-DEV  ... REF-HIST-5  MAIL-NO MAIL-APT  \\\n",
       "49249      NaN  N BANCROFT PKY      NaN  ...        NaN      NaN      NaN   \n",
       "\n",
       "       MAIL-STR  MAIL-CITY  MAIL-STATE  MAIL-ZIP  DATE-LAST-CHG CODE-CHANGE  \\\n",
       "49249       NaN        NaN         NaN       NaN       20170731          P6   \n",
       "\n",
       "      STATUS  \n",
       "49249      I  \n",
       "\n",
       "[1 rows x 54 columns]"
      ]
     },
     "execution_count": 14,
     "metadata": {},
     "output_type": "execute_result"
    }
   ],
   "source": [
    "df.loc[lambda df:df['YEAR-OF-BIRTH'] == 1900, :]"
   ]
  },
  {
   "cell_type": "markdown",
   "metadata": {},
   "source": [
    "Graph a histogram to  illustrate the age distribution of voters in this dataset. Ty using different values for the bins attribute of the histogram. "
   ]
  },
  {
   "cell_type": "code",
   "execution_count": 15,
   "metadata": {},
   "outputs": [
    {
     "data": {
      "text/plain": [
       "<matplotlib.axes._subplots.AxesSubplot at 0x11bd79610>"
      ]
     },
     "execution_count": 15,
     "metadata": {},
     "output_type": "execute_result"
    },
    {
     "data": {
      "image/png": "[encoded data removed]",
      "text/plain": [
       "<Figure size 432x288 with 1 Axes>"
      ]
     },
     "metadata": {
      "needs_background": "light"
     },
     "output_type": "display_data"
    }
   ],
   "source": [
    "df['YEAR-OF-BIRTH'].plot.hist(bins=10)"
   ]
  },
  {
   "cell_type": "markdown",
   "metadata": {},
   "source": [
    "# PARTY"
   ]
  },
  {
   "cell_type": "markdown",
   "metadata": {},
   "source": [
    "Group objects using the PARTY column. Assign the value to a variable called grouped_p."
   ]
  },
  {
   "cell_type": "code",
   "execution_count": 16,
   "metadata": {},
   "outputs": [],
   "source": [
    "grouped_p = df.groupby('PARTY')"
   ]
  },
  {
   "cell_type": "markdown",
   "metadata": {},
   "source": [
    "Display the value of the groups attribute belonging to the grouped_p object."
   ]
  },
  {
   "cell_type": "code",
   "execution_count": 104,
   "metadata": {},
   "outputs": [
    {
     "data": {
      "text/plain": [
       "<pandas.core.groupby.generic.DataFrameGroupBy object at 0x11bdb2e10>"
      ]
     },
     "execution_count": 104,
     "metadata": {},
     "output_type": "execute_result"
    }
   ],
   "source": [
    "grouped_p"
   ]
  },
  {
   "cell_type": "markdown",
   "metadata": {},
   "source": [
    "Invoke the size method on the grouped_p object to find out how many items are associated with each party."
   ]
  },
  {
   "cell_type": "code",
   "execution_count": 18,
   "metadata": {
    "scrolled": true
   },
   "outputs": [
    {
     "data": {
      "text/plain": [
       "PARTY\n",
       "A       52\n",
       "B      441\n",
       "D    38020\n",
       "E       30\n",
       "G       42\n",
       "H       82\n",
       "I     7670\n",
       "J      161\n",
       "L       98\n",
       "M        1\n",
       "O       33\n",
       "Q       17\n",
       "R     4851\n",
       "T       14\n",
       "V       11\n",
       "W      333\n",
       "Y       14\n",
       "Z       39\n",
       "dtype: int64"
      ]
     },
     "execution_count": 18,
     "metadata": {},
     "output_type": "execute_result"
    }
   ],
   "source": [
    "grouped_p.size()"
   ]
  },
  {
   "cell_type": "markdown",
   "metadata": {},
   "source": [
    "Create a bar chart to visualize the number of voters associated with each party."
   ]
  },
  {
   "cell_type": "code",
   "execution_count": 52,
   "metadata": {},
   "outputs": [
    {
     "data": {
      "text/plain": [
       "<BarContainer object of 18 artists>"
      ]
     },
     "execution_count": 52,
     "metadata": {},
     "output_type": "execute_result"
    },
    {
     "data": {
      "image/png": "[encoded data removed]",
      "text/plain": [
       "<Figure size 432x288 with 1 Axes>"
      ]
     },
     "metadata": {
      "needs_background": "light"
     },
     "output_type": "display_data"
    }
   ],
   "source": [
    "data_party_lable = df.PARTY.unique()\n",
    "data_party_lable.sort()\n",
    "plt.bar(data_party_lable,grouped_p.size())\n",
    "#df.PARTY.unique()"
   ]
  },
  {
   "cell_type": "markdown",
   "metadata": {},
   "source": [
    "# Merging Two DataFrames"
   ]
  },
  {
   "cell_type": "markdown",
   "metadata": {},
   "source": [
    "Using the data from the documentation, create a Pandas DataFrame that contains the party code and the corresponding legal name for each party."
   ]
  },
  {
   "cell_type": "code",
   "execution_count": 66,
   "metadata": {},
   "outputs": [],
   "source": [
    "#import tabula \n",
    "# legal_names = {}\n",
    "#legal_names = tabula.read_pdf(\"./data/DE-VoterFile-Documentation 20171010.pdf\")\n",
    "legal_names = {\"A\": \"AMERICAN\",\n",
    "              \"B\": \"AMERICAN DELTA\",\n",
    "              \"D\": \"DEMOCRATIC PARTY\",\n",
    "              \"E\": \"LIBERAL\",\n",
    "              \"G\": \"NON PARTISAN\",\n",
    "              \"H\": \"GREEN PARTY\",\n",
    "              \"I\": \"UNAFFILIATED\",\n",
    "              \"J\": \"WORKING FAMILIES PARTY\",\n",
    "              \"L\": \"LIBERTARIAN PARTY\",\n",
    "              \"M\": \"REFORM PARTY\",\n",
    "              \"O\": \"OTHERS/ALL OTHER PARTIES\",\n",
    "              \"Q\": \"CONSTITUTION PARTY\",\n",
    "              \"R\": \"REPUPLICAN PARTY\",\n",
    "              \"T\": \"CONSERVATIVE\",\n",
    "              \"V\": \"NATURAL LAW PARTY\",\n",
    "              \"W\": \"INDEPENDENT PARTY OF DEL\",\n",
    "              \"Y\": \"THE BLUE ENIGMA PARTY\",\n",
    "              \"Z\": \"SOCIALIST WORKERS PARTY\"}"
   ]
  },
  {
   "cell_type": "code",
   "execution_count": 90,
   "metadata": {},
   "outputs": [],
   "source": [
    "# df_legal_names = pd.DataFrame(legal_names)\n",
    "df_legal_names = pd.DataFrame(legal_names.items())\n",
    "#df_legal_names\n",
    "df_legal_names=df_legal_names.rename(columns={0:\"PARTY\",1:\"PARTYNAME\"})\n",
    "df_legal_names=df_legal_names.set_index(\"PARTY\")"
   ]
  },
  {
   "cell_type": "code",
   "execution_count": 91,
   "metadata": {},
   "outputs": [
    {
     "data": {
      "text/html": [
       "<div>\n",
       "<style scoped>\n",
       "    .dataframe tbody tr th:only-of-type {\n",
       "        vertical-align: middle;\n",
       "    }\n",
       "\n",
       "    .dataframe tbody tr th {\n",
       "        vertical-align: top;\n",
       "    }\n",
       "\n",
       "    .dataframe thead th {\n",
       "        text-align: right;\n",
       "    }\n",
       "</style>\n",
       "<table border=\"1\" class=\"dataframe\">\n",
       "  <thead>\n",
       "    <tr style=\"text-align: right;\">\n",
       "      <th></th>\n",
       "      <th>PARTYNAME</th>\n",
       "    </tr>\n",
       "    <tr>\n",
       "      <th>PARTY</th>\n",
       "      <th></th>\n",
       "    </tr>\n",
       "  </thead>\n",
       "  <tbody>\n",
       "    <tr>\n",
       "      <td>A</td>\n",
       "      <td>AMERICAN</td>\n",
       "    </tr>\n",
       "    <tr>\n",
       "      <td>B</td>\n",
       "      <td>AMERICAN DELTA</td>\n",
       "    </tr>\n",
       "    <tr>\n",
       "      <td>D</td>\n",
       "      <td>DEMOCRATIC PARTY</td>\n",
       "    </tr>\n",
       "    <tr>\n",
       "      <td>E</td>\n",
       "      <td>LIBERAL</td>\n",
       "    </tr>\n",
       "    <tr>\n",
       "      <td>G</td>\n",
       "      <td>NON PARTISAN</td>\n",
       "    </tr>\n",
       "    <tr>\n",
       "      <td>H</td>\n",
       "      <td>GREEN PARTY</td>\n",
       "    </tr>\n",
       "    <tr>\n",
       "      <td>I</td>\n",
       "      <td>UNAFFILIATED</td>\n",
       "    </tr>\n",
       "    <tr>\n",
       "      <td>J</td>\n",
       "      <td>WORKING FAMILIES PARTY</td>\n",
       "    </tr>\n",
       "    <tr>\n",
       "      <td>L</td>\n",
       "      <td>LIBERTARIAN PARTY</td>\n",
       "    </tr>\n",
       "    <tr>\n",
       "      <td>M</td>\n",
       "      <td>REFORM PARTY</td>\n",
       "    </tr>\n",
       "    <tr>\n",
       "      <td>O</td>\n",
       "      <td>OTHERS/ALL OTHER PARTIES</td>\n",
       "    </tr>\n",
       "    <tr>\n",
       "      <td>Q</td>\n",
       "      <td>CONSTITUTION PARTY</td>\n",
       "    </tr>\n",
       "    <tr>\n",
       "      <td>R</td>\n",
       "      <td>REPUPLICAN PARTY</td>\n",
       "    </tr>\n",
       "    <tr>\n",
       "      <td>T</td>\n",
       "      <td>CONSERVATIVE</td>\n",
       "    </tr>\n",
       "    <tr>\n",
       "      <td>V</td>\n",
       "      <td>NATURAL LAW PARTY</td>\n",
       "    </tr>\n",
       "    <tr>\n",
       "      <td>W</td>\n",
       "      <td>INDEPENDENT PARTY OF DEL</td>\n",
       "    </tr>\n",
       "    <tr>\n",
       "      <td>Y</td>\n",
       "      <td>THE BLUE ENIGMA PARTY</td>\n",
       "    </tr>\n",
       "    <tr>\n",
       "      <td>Z</td>\n",
       "      <td>SOCIALIST WORKERS PARTY</td>\n",
       "    </tr>\n",
       "  </tbody>\n",
       "</table>\n",
       "</div>"
      ],
      "text/plain": [
       "                      PARTYNAME\n",
       "PARTY                          \n",
       "A                      AMERICAN\n",
       "B                AMERICAN DELTA\n",
       "D              DEMOCRATIC PARTY\n",
       "E                       LIBERAL\n",
       "G                  NON PARTISAN\n",
       "H                   GREEN PARTY\n",
       "I                  UNAFFILIATED\n",
       "J        WORKING FAMILIES PARTY\n",
       "L             LIBERTARIAN PARTY\n",
       "M                  REFORM PARTY\n",
       "O      OTHERS/ALL OTHER PARTIES\n",
       "Q            CONSTITUTION PARTY\n",
       "R              REPUPLICAN PARTY\n",
       "T                  CONSERVATIVE\n",
       "V             NATURAL LAW PARTY\n",
       "W      INDEPENDENT PARTY OF DEL\n",
       "Y         THE BLUE ENIGMA PARTY\n",
       "Z       SOCIALIST WORKERS PARTY"
      ]
     },
     "execution_count": 91,
     "metadata": {},
     "output_type": "execute_result"
    }
   ],
   "source": [
    "df_legal_names\n"
   ]
  },
  {
   "cell_type": "markdown",
   "metadata": {},
   "source": [
    "Create a Pandas DataFrame that contains the Party code and the corresponding number of registered voters for said party."
   ]
  },
  {
   "cell_type": "code",
   "execution_count": 109,
   "metadata": {},
   "outputs": [],
   "source": [
    "# Create DataFrame df_party_counts here\n",
    "df_party_counts = pd.DataFrame(grouped_p.size())\n",
    "#df_party_counts\n",
    "df_party_counts = df_party_counts.rename(columns={0:\"COUNT\"})"
   ]
  },
  {
   "cell_type": "code",
   "execution_count": 110,
   "metadata": {},
   "outputs": [
    {
     "data": {
      "text/html": [
       "<div>\n",
       "<style scoped>\n",
       "    .dataframe tbody tr th:only-of-type {\n",
       "        vertical-align: middle;\n",
       "    }\n",
       "\n",
       "    .dataframe tbody tr th {\n",
       "        vertical-align: top;\n",
       "    }\n",
       "\n",
       "    .dataframe thead th {\n",
       "        text-align: right;\n",
       "    }\n",
       "</style>\n",
       "<table border=\"1\" class=\"dataframe\">\n",
       "  <thead>\n",
       "    <tr style=\"text-align: right;\">\n",
       "      <th></th>\n",
       "      <th>Count</th>\n",
       "    </tr>\n",
       "    <tr>\n",
       "      <th>PARTY</th>\n",
       "      <th></th>\n",
       "    </tr>\n",
       "  </thead>\n",
       "  <tbody>\n",
       "    <tr>\n",
       "      <td>A</td>\n",
       "      <td>52</td>\n",
       "    </tr>\n",
       "    <tr>\n",
       "      <td>B</td>\n",
       "      <td>441</td>\n",
       "    </tr>\n",
       "    <tr>\n",
       "      <td>D</td>\n",
       "      <td>38020</td>\n",
       "    </tr>\n",
       "    <tr>\n",
       "      <td>E</td>\n",
       "      <td>30</td>\n",
       "    </tr>\n",
       "    <tr>\n",
       "      <td>G</td>\n",
       "      <td>42</td>\n",
       "    </tr>\n",
       "    <tr>\n",
       "      <td>H</td>\n",
       "      <td>82</td>\n",
       "    </tr>\n",
       "    <tr>\n",
       "      <td>I</td>\n",
       "      <td>7670</td>\n",
       "    </tr>\n",
       "    <tr>\n",
       "      <td>J</td>\n",
       "      <td>161</td>\n",
       "    </tr>\n",
       "    <tr>\n",
       "      <td>L</td>\n",
       "      <td>98</td>\n",
       "    </tr>\n",
       "    <tr>\n",
       "      <td>M</td>\n",
       "      <td>1</td>\n",
       "    </tr>\n",
       "    <tr>\n",
       "      <td>O</td>\n",
       "      <td>33</td>\n",
       "    </tr>\n",
       "    <tr>\n",
       "      <td>Q</td>\n",
       "      <td>17</td>\n",
       "    </tr>\n",
       "    <tr>\n",
       "      <td>R</td>\n",
       "      <td>4851</td>\n",
       "    </tr>\n",
       "    <tr>\n",
       "      <td>T</td>\n",
       "      <td>14</td>\n",
       "    </tr>\n",
       "    <tr>\n",
       "      <td>V</td>\n",
       "      <td>11</td>\n",
       "    </tr>\n",
       "    <tr>\n",
       "      <td>W</td>\n",
       "      <td>333</td>\n",
       "    </tr>\n",
       "    <tr>\n",
       "      <td>Y</td>\n",
       "      <td>14</td>\n",
       "    </tr>\n",
       "    <tr>\n",
       "      <td>Z</td>\n",
       "      <td>39</td>\n",
       "    </tr>\n",
       "  </tbody>\n",
       "</table>\n",
       "</div>"
      ],
      "text/plain": [
       "       Count\n",
       "PARTY       \n",
       "A         52\n",
       "B        441\n",
       "D      38020\n",
       "E         30\n",
       "G         42\n",
       "H         82\n",
       "I       7670\n",
       "J        161\n",
       "L         98\n",
       "M          1\n",
       "O         33\n",
       "Q         17\n",
       "R       4851\n",
       "T         14\n",
       "V         11\n",
       "W        333\n",
       "Y         14\n",
       "Z         39"
      ]
     },
     "execution_count": 110,
     "metadata": {},
     "output_type": "execute_result"
    }
   ],
   "source": [
    " df_party_counts "
   ]
  },
  {
   "cell_type": "markdown",
   "metadata": {},
   "source": [
    "Merge the two DataFrames."
   ]
  },
  {
   "cell_type": "code",
   "execution_count": 113,
   "metadata": {},
   "outputs": [],
   "source": [
    "# Merge DataFrame here \n",
    "merge_df = pd.merge(df_party_counts, df_legal_names, how = \"left\", on =[\"PARTY\",\"PARTY\"])"
   ]
  },
  {
   "cell_type": "code",
   "execution_count": 114,
   "metadata": {},
   "outputs": [
    {
     "data": {
      "text/html": [
       "<div>\n",
       "<style scoped>\n",
       "    .dataframe tbody tr th:only-of-type {\n",
       "        vertical-align: middle;\n",
       "    }\n",
       "\n",
       "    .dataframe tbody tr th {\n",
       "        vertical-align: top;\n",
       "    }\n",
       "\n",
       "    .dataframe thead th {\n",
       "        text-align: right;\n",
       "    }\n",
       "</style>\n",
       "<table border=\"1\" class=\"dataframe\">\n",
       "  <thead>\n",
       "    <tr style=\"text-align: right;\">\n",
       "      <th></th>\n",
       "      <th></th>\n",
       "      <th>Count</th>\n",
       "      <th>PARTYNAME</th>\n",
       "    </tr>\n",
       "    <tr>\n",
       "      <th>PARTY</th>\n",
       "      <th>PARTY</th>\n",
       "      <th></th>\n",
       "      <th></th>\n",
       "    </tr>\n",
       "  </thead>\n",
       "  <tbody>\n",
       "    <tr>\n",
       "      <td>A</td>\n",
       "      <td>A</td>\n",
       "      <td>52</td>\n",
       "      <td>AMERICAN</td>\n",
       "    </tr>\n",
       "    <tr>\n",
       "      <td>B</td>\n",
       "      <td>B</td>\n",
       "      <td>441</td>\n",
       "      <td>AMERICAN DELTA</td>\n",
       "    </tr>\n",
       "    <tr>\n",
       "      <td>D</td>\n",
       "      <td>D</td>\n",
       "      <td>38020</td>\n",
       "      <td>DEMOCRATIC PARTY</td>\n",
       "    </tr>\n",
       "    <tr>\n",
       "      <td>E</td>\n",
       "      <td>E</td>\n",
       "      <td>30</td>\n",
       "      <td>LIBERAL</td>\n",
       "    </tr>\n",
       "    <tr>\n",
       "      <td>G</td>\n",
       "      <td>G</td>\n",
       "      <td>42</td>\n",
       "      <td>NON PARTISAN</td>\n",
       "    </tr>\n",
       "    <tr>\n",
       "      <td>H</td>\n",
       "      <td>H</td>\n",
       "      <td>82</td>\n",
       "      <td>GREEN PARTY</td>\n",
       "    </tr>\n",
       "    <tr>\n",
       "      <td>I</td>\n",
       "      <td>I</td>\n",
       "      <td>7670</td>\n",
       "      <td>UNAFFILIATED</td>\n",
       "    </tr>\n",
       "    <tr>\n",
       "      <td>J</td>\n",
       "      <td>J</td>\n",
       "      <td>161</td>\n",
       "      <td>WORKING FAMILIES PARTY</td>\n",
       "    </tr>\n",
       "    <tr>\n",
       "      <td>L</td>\n",
       "      <td>L</td>\n",
       "      <td>98</td>\n",
       "      <td>LIBERTARIAN PARTY</td>\n",
       "    </tr>\n",
       "    <tr>\n",
       "      <td>M</td>\n",
       "      <td>M</td>\n",
       "      <td>1</td>\n",
       "      <td>REFORM PARTY</td>\n",
       "    </tr>\n",
       "    <tr>\n",
       "      <td>O</td>\n",
       "      <td>O</td>\n",
       "      <td>33</td>\n",
       "      <td>OTHERS/ALL OTHER PARTIES</td>\n",
       "    </tr>\n",
       "    <tr>\n",
       "      <td>Q</td>\n",
       "      <td>Q</td>\n",
       "      <td>17</td>\n",
       "      <td>CONSTITUTION PARTY</td>\n",
       "    </tr>\n",
       "    <tr>\n",
       "      <td>R</td>\n",
       "      <td>R</td>\n",
       "      <td>4851</td>\n",
       "      <td>REPUPLICAN PARTY</td>\n",
       "    </tr>\n",
       "    <tr>\n",
       "      <td>T</td>\n",
       "      <td>T</td>\n",
       "      <td>14</td>\n",
       "      <td>CONSERVATIVE</td>\n",
       "    </tr>\n",
       "    <tr>\n",
       "      <td>V</td>\n",
       "      <td>V</td>\n",
       "      <td>11</td>\n",
       "      <td>NATURAL LAW PARTY</td>\n",
       "    </tr>\n",
       "    <tr>\n",
       "      <td>W</td>\n",
       "      <td>W</td>\n",
       "      <td>333</td>\n",
       "      <td>INDEPENDENT PARTY OF DEL</td>\n",
       "    </tr>\n",
       "    <tr>\n",
       "      <td>Y</td>\n",
       "      <td>Y</td>\n",
       "      <td>14</td>\n",
       "      <td>THE BLUE ENIGMA PARTY</td>\n",
       "    </tr>\n",
       "    <tr>\n",
       "      <td>Z</td>\n",
       "      <td>Z</td>\n",
       "      <td>39</td>\n",
       "      <td>SOCIALIST WORKERS PARTY</td>\n",
       "    </tr>\n",
       "  </tbody>\n",
       "</table>\n",
       "</div>"
      ],
      "text/plain": [
       "             Count                 PARTYNAME\n",
       "PARTY PARTY                                 \n",
       "A     A         52                  AMERICAN\n",
       "B     B        441            AMERICAN DELTA\n",
       "D     D      38020          DEMOCRATIC PARTY\n",
       "E     E         30                   LIBERAL\n",
       "G     G         42              NON PARTISAN\n",
       "H     H         82               GREEN PARTY\n",
       "I     I       7670              UNAFFILIATED\n",
       "J     J        161    WORKING FAMILIES PARTY\n",
       "L     L         98         LIBERTARIAN PARTY\n",
       "M     M          1              REFORM PARTY\n",
       "O     O         33  OTHERS/ALL OTHER PARTIES\n",
       "Q     Q         17        CONSTITUTION PARTY\n",
       "R     R       4851          REPUPLICAN PARTY\n",
       "T     T         14              CONSERVATIVE\n",
       "V     V         11         NATURAL LAW PARTY\n",
       "W     W        333  INDEPENDENT PARTY OF DEL\n",
       "Y     Y         14     THE BLUE ENIGMA PARTY\n",
       "Z     Z         39   SOCIALIST WORKERS PARTY"
      ]
     },
     "execution_count": 114,
     "metadata": {},
     "output_type": "execute_result"
    }
   ],
   "source": [
    "# Display new DataFrame here \n",
    "merge_df"
   ]
  },
  {
   "cell_type": "markdown",
   "metadata": {},
   "source": [
    "Create a bar graph again but using the legal name for each party as the value on the x axes."
   ]
  },
  {
   "cell_type": "code",
   "execution_count": 118,
   "metadata": {},
   "outputs": [
    {
     "data": {
      "text/plain": [
       "<BarContainer object of 18 artists>"
      ]
     },
     "execution_count": 118,
     "metadata": {},
     "output_type": "execute_result"
    },
    {
     "data": {
      "image/png": "[encoded data removed]",
      "text/plain": [
       "<Figure size 432x288 with 1 Axes>"
      ]
     },
     "metadata": {
      "needs_background": "light"
     },
     "output_type": "display_data"
    }
   ],
   "source": [
    "merge_df.plot.bar(\"PARTYNAME\",\"COUNT\")\n",
    "#plt.bar(merge_df[\"PARTYNAME\"],merge_df[\"Count\"])"
   ]
  },
  {
   "cell_type": "code",
   "execution_count": null,
   "metadata": {},
   "outputs": [],
   "source": []
  }
 ],
 "metadata": {
  "kernelspec": {
   "display_name": "Python 3",
   "language": "python",
   "name": "python3"
  },
  "language_info": {
   "codemirror_mode": {
    "name": "ipython",
    "version": 3
   },
   "file_extension": ".py",
   "mimetype": "text/x-python",
   "name": "python",
   "nbconvert_exporter": "python",
   "pygments_lexer": "ipython3",
   "version": "3.7.4"
  }
 },
 "nbformat": 4,
 "nbformat_minor": 2
}
